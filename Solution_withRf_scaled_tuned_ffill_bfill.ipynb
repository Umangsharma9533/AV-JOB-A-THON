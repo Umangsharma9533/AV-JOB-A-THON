{
 "cells": [
  {
   "cell_type": "code",
   "execution_count": 1,
   "metadata": {},
   "outputs": [],
   "source": [
    "import pandas as pd\n",
    "import numpy as np\n",
    "import pandas as pd\n",
    "import matplotlib.pyplot as plt\n",
    "import seaborn as sns\n",
    "from sklearn.model_selection import train_test_split\n",
    "from sklearn.ensemble import RandomForestClassifier\n",
    "from sklearn.model_selection import cross_val_score\n",
    "from sklearn.metrics import mean_squared_error\n",
    "from sklearn.metrics import r2_score\n",
    "import math\n",
    "import xgboost as xgb\n",
    "from sklearn.model_selection import RandomizedSearchCV, GridSearchCV\n",
    "sns.set()"
   ]
  },
  {
   "cell_type": "code",
   "execution_count": 2,
   "metadata": {},
   "outputs": [
    {
     "name": "stdout",
     "output_type": "stream",
     "text": [
      "<class 'pandas.core.frame.DataFrame'>\n",
      "RangeIndex: 245725 entries, 0 to 245724\n",
      "Data columns (total 11 columns):\n",
      " #   Column               Non-Null Count   Dtype \n",
      "---  ------               --------------   ----- \n",
      " 0   ID                   245725 non-null  object\n",
      " 1   Gender               245725 non-null  object\n",
      " 2   Age                  245725 non-null  int64 \n",
      " 3   Region_Code          245725 non-null  object\n",
      " 4   Occupation           245725 non-null  object\n",
      " 5   Channel_Code         245725 non-null  object\n",
      " 6   Vintage              245725 non-null  int64 \n",
      " 7   Credit_Product       216400 non-null  object\n",
      " 8   Avg_Account_Balance  245725 non-null  int64 \n",
      " 9   Is_Active            245725 non-null  object\n",
      " 10  Is_Lead              245725 non-null  int64 \n",
      "dtypes: int64(4), object(7)\n",
      "memory usage: 20.6+ MB\n"
     ]
    }
   ],
   "source": [
    "df_raw=pd.read_csv('train_s3TEQDk.csv')\n",
    "df_raw.info()"
   ]
  },
  {
   "cell_type": "code",
   "execution_count": 3,
   "metadata": {},
   "outputs": [
    {
     "name": "stdout",
     "output_type": "stream",
     "text": [
      "<class 'pandas.core.frame.DataFrame'>\n",
      "RangeIndex: 245725 entries, 0 to 245724\n",
      "Data columns (total 11 columns):\n",
      " #   Column               Non-Null Count   Dtype \n",
      "---  ------               --------------   ----- \n",
      " 0   ID                   245725 non-null  object\n",
      " 1   Gender               245725 non-null  object\n",
      " 2   Age                  245725 non-null  int64 \n",
      " 3   Region_Code          245725 non-null  object\n",
      " 4   Occupation           245725 non-null  object\n",
      " 5   Channel_Code         245725 non-null  object\n",
      " 6   Vintage              245725 non-null  int64 \n",
      " 7   Credit_Product       245725 non-null  object\n",
      " 8   Avg_Account_Balance  245725 non-null  int64 \n",
      " 9   Is_Active            245725 non-null  object\n",
      " 10  Is_Lead              245725 non-null  int64 \n",
      "dtypes: int64(4), object(7)\n",
      "memory usage: 20.6+ MB\n"
     ]
    }
   ],
   "source": [
    "df_ffill=df_raw.fillna(method=\"ffill\",axis=0)\n",
    "df_ffill.info()"
   ]
  },
  {
   "cell_type": "code",
   "execution_count": 4,
   "metadata": {},
   "outputs": [
    {
     "name": "stdout",
     "output_type": "stream",
     "text": [
      "<class 'pandas.core.frame.DataFrame'>\n",
      "RangeIndex: 245725 entries, 0 to 245724\n",
      "Data columns (total 11 columns):\n",
      " #   Column               Non-Null Count   Dtype \n",
      "---  ------               --------------   ----- \n",
      " 0   ID                   245725 non-null  object\n",
      " 1   Gender               245725 non-null  object\n",
      " 2   Age                  245725 non-null  int64 \n",
      " 3   Region_Code          245725 non-null  object\n",
      " 4   Occupation           245725 non-null  object\n",
      " 5   Channel_Code         245725 non-null  object\n",
      " 6   Vintage              245725 non-null  int64 \n",
      " 7   Credit_Product       245725 non-null  object\n",
      " 8   Avg_Account_Balance  245725 non-null  int64 \n",
      " 9   Is_Active            245725 non-null  object\n",
      " 10  Is_Lead              245725 non-null  int64 \n",
      "dtypes: int64(4), object(7)\n",
      "memory usage: 20.6+ MB\n"
     ]
    }
   ],
   "source": [
    "df_bfill=df_raw.fillna(method=\"bfill\",axis=0)\n",
    "df_bfill.info()"
   ]
  },
  {
   "cell_type": "code",
   "execution_count": 5,
   "metadata": {},
   "outputs": [
    {
     "data": {
      "text/plain": [
       "No     163751\n",
       "Yes     81974\n",
       "Name: Credit_Product, dtype: int64"
      ]
     },
     "execution_count": 5,
     "metadata": {},
     "output_type": "execute_result"
    }
   ],
   "source": [
    "df_ffill['Credit_Product'].value_counts()"
   ]
  },
  {
   "cell_type": "code",
   "execution_count": 6,
   "metadata": {},
   "outputs": [
    {
     "data": {
      "text/plain": [
       "No     163920\n",
       "Yes     81805\n",
       "Name: Credit_Product, dtype: int64"
      ]
     },
     "execution_count": 6,
     "metadata": {},
     "output_type": "execute_result"
    }
   ],
   "source": [
    "df_bfill['Credit_Product'].value_counts()"
   ]
  },
  {
   "cell_type": "code",
   "execution_count": 7,
   "metadata": {},
   "outputs": [
    {
     "data": {
      "text/plain": [
       "No     144357\n",
       "Yes    101368\n",
       "Name: Credit_Product, dtype: int64"
      ]
     },
     "execution_count": 7,
     "metadata": {},
     "output_type": "execute_result"
    }
   ],
   "source": [
    "df_yes=df_raw.copy()\n",
    "df_yes['Credit_Product'].replace(np.nan,'Yes',inplace=True)\n",
    "df_yes['Credit_Product'].value_counts()"
   ]
  },
  {
   "cell_type": "code",
   "execution_count": 8,
   "metadata": {},
   "outputs": [
    {
     "name": "stderr",
     "output_type": "stream",
     "text": [
      "<ipython-input-8-322fef57ed21>:52: SettingWithCopyWarning: \n",
      "A value is trying to be set on a copy of a slice from a DataFrame.\n",
      "Try using .loc[row_indexer,col_indexer] = value instead\n",
      "\n",
      "See the caveats in the documentation: https://pandas.pydata.org/pandas-docs/stable/user_guide/indexing.html#returning-a-view-versus-a-copy\n",
      "  X['Avg_Account_Balance'] = np.log(X['Avg_Account_Balance'])\n"
     ]
    },
    {
     "name": "stdout",
     "output_type": "stream",
     "text": [
      "Feature Age: 10992.019910\n",
      "Feature Vintage: 16875.145658\n",
      "Feature Avg_Account_Balance: 1021.921892\n",
      "Feature RG250: 77.780573\n",
      "Feature RG251: 0.941242\n",
      "Feature RG252: 187.484921\n",
      "Feature RG253: 6.369940\n",
      "Feature RG254: 87.880540\n",
      "Feature RG255: 0.647321\n",
      "Feature RG256: 124.701975\n",
      "Feature RG257: 52.183004\n",
      "Feature RG258: 1.488879\n",
      "Feature RG259: 9.696454\n",
      "Feature RG260: 27.594910\n",
      "Feature RG261: 169.162304\n",
      "Feature RG262: 18.731212\n",
      "Feature RG263: 3.800655\n",
      "Feature RG264: 107.990905\n",
      "Feature RG265: 5.269674\n",
      "Feature RG266: 64.060956\n",
      "Feature RG267: 53.759319\n",
      "Feature RG268: 709.146903\n",
      "Feature RG269: 9.180613\n",
      "Feature RG270: 306.075644\n",
      "Feature RG271: 38.839803\n",
      "Feature RG272: 11.838138\n",
      "Feature RG273: 0.003624\n",
      "Feature RG274: 152.362182\n",
      "Feature RG275: 55.945422\n",
      "Feature RG276: 21.091944\n",
      "Feature RG277: 0.916922\n",
      "Feature RG278: 1.734665\n",
      "Feature RG279: 2.596100\n",
      "Feature RG280: 0.149835\n",
      "Feature RG281: 5.777675\n",
      "Feature RG282: 57.597015\n",
      "Feature RG283: 629.071313\n",
      "Feature RG284: 372.976181\n",
      "Feature Occupation_Entrepreneur: 2181.162425\n",
      "Feature Occupation_Other: 21.846632\n",
      "Feature Occupation_Salaried: 2744.642396\n",
      "Feature Occupation_Self_Employed: 1165.203937\n",
      "Feature Channel_X1: 18550.253301\n",
      "Feature Channel_X2: 3439.717054\n",
      "Feature Channel_X3: 7501.419946\n",
      "Feature Channel_X4: 1.345255\n",
      "Feature CreditProduct_Yes: 11897.309681\n",
      "Feature CreditProduct_No: 11897.309681\n",
      "Feature IsActive_Yes: 1428.364934\n",
      "Feature IsActive_No: 1428.364934\n"
     ]
    },
    {
     "data": {
      "image/png": "[encoded data removed]",
      "text/plain": [
       "<Figure size 432x288 with 1 Axes>"
      ]
     },
     "metadata": {},
     "output_type": "display_data"
    }
   ],
   "source": [
    "dummies_Gender=pd.get_dummies(df_ffill['Gender'])\n",
    "dummies_Region=pd.get_dummies(df_ffill['Region_Code'])\n",
    "dummies_Occupation=pd.get_dummies(df_ffill['Occupation'])\n",
    "dummies_Channel=pd.get_dummies(df_ffill['Channel_Code'])\n",
    "dummies_CreditProduct=pd.get_dummies(df_ffill['Credit_Product'])\n",
    "dummies_IsActive=pd.get_dummies(df_ffill['Is_Active'])\n",
    "\n",
    "df_ffill['Gender_Male']=dummies_Gender['Male']\n",
    "df_ffill['Gender_Female']=dummies_Gender['Female']\n",
    "\n",
    "\n",
    "df_ffill[['RG250', 'RG251', 'RG252', 'RG253', 'RG254', 'RG255', 'RG256', 'RG257',\n",
    "       'RG258', 'RG259', 'RG260', 'RG261', 'RG262', 'RG263', 'RG264', 'RG265',\n",
    "       'RG266', 'RG267', 'RG268', 'RG269', 'RG270', 'RG271', 'RG272', 'RG273',\n",
    "       'RG274', 'RG275', 'RG276', 'RG277', 'RG278', 'RG279', 'RG280', 'RG281',\n",
    "       'RG282', 'RG283', 'RG284']]=dummies_Region[['RG250', 'RG251', 'RG252', 'RG253', 'RG254', 'RG255', 'RG256', 'RG257',\n",
    "       'RG258', 'RG259', 'RG260', 'RG261', 'RG262', 'RG263', 'RG264', 'RG265',\n",
    "       'RG266', 'RG267', 'RG268', 'RG269', 'RG270', 'RG271', 'RG272', 'RG273',\n",
    "       'RG274', 'RG275', 'RG276', 'RG277', 'RG278', 'RG279', 'RG280', 'RG281',\n",
    "       'RG282', 'RG283', 'RG284']]\n",
    "\n",
    "\n",
    "\n",
    "df_ffill['Occupation_Entrepreneur']=dummies_Occupation['Entrepreneur']\n",
    "df_ffill['Occupation_Other']=dummies_Occupation['Other']\n",
    "df_ffill['Occupation_Salaried']=dummies_Occupation['Salaried']\n",
    "df_ffill['Occupation_Self_Employed']=dummies_Occupation['Self_Employed']\n",
    "df_ffill['Channel_X1']=dummies_Channel['X1']\n",
    "df_ffill['Channel_X2']=dummies_Channel['X2']\n",
    "df_ffill['Channel_X3']=dummies_Channel['X3']\n",
    "df_ffill['Channel_X4']=dummies_Channel['X4']\n",
    "df_ffill['CreditProduct_Yes']=dummies_CreditProduct['Yes']\n",
    "df_ffill['CreditProduct_No']=dummies_CreditProduct['No']\n",
    "df_ffill['IsActive_Yes']=dummies_IsActive['Yes']\n",
    "df_ffill['IsActive_No']=dummies_IsActive['No']\n",
    "\n",
    "\n",
    "df_ffill=df_ffill.drop(['Gender','Region_Code','Occupation','Channel_Code','Credit_Product','Is_Active'],axis=1)\n",
    "\n",
    "\n",
    "X=df_ffill[['Age', 'Vintage', 'Avg_Account_Balance', 'RG250',\n",
    "       'RG251', 'RG252', 'RG253', 'RG254', 'RG255', 'RG256', 'RG257', 'RG258',\n",
    "       'RG259', 'RG260', 'RG261', 'RG262', 'RG263', 'RG264', 'RG265', 'RG266',\n",
    "       'RG267', 'RG268', 'RG269', 'RG270', 'RG271', 'RG272', 'RG273', 'RG274',\n",
    "       'RG275', 'RG276', 'RG277', 'RG278', 'RG279', 'RG280', 'RG281', 'RG282',\n",
    "       'RG283', 'RG284', 'Occupation_Entrepreneur', 'Occupation_Other',\n",
    "       'Occupation_Salaried', 'Occupation_Self_Employed', 'Channel_X1',\n",
    "       'Channel_X2', 'Channel_X3', 'Channel_X4', 'CreditProduct_Yes',\n",
    "       'CreditProduct_No', 'IsActive_Yes', 'IsActive_No']]\n",
    "Y=df_ffill[['Is_Lead']]\n",
    "\n",
    "X['Avg_Account_Balance'] = np.log(X['Avg_Account_Balance'])\n",
    "from sklearn.preprocessing import StandardScaler\n",
    "scaler = StandardScaler()\n",
    "X_train_scaled = scaler.fit_transform(X)\n",
    "\n",
    "from sklearn.datasets import make_regression\n",
    "from sklearn.feature_selection import SelectKBest\n",
    "from sklearn.feature_selection import f_regression\n",
    "from matplotlib import pyplot\n",
    "# feature selection\n",
    "def select_features(X_train, y_train, X_test):\n",
    "\t# configure to select all features\n",
    "\tfs = SelectKBest(score_func=f_regression, k='all')\n",
    "\t# learn relationship from training data\n",
    "\tfs.fit(X_train, y_train)\n",
    "\t# transform train input data\n",
    "\tX_train_fs = fs.transform(X_train)\n",
    "\t# transform test input data\n",
    "\tX_test_fs = fs.transform(X_test)\n",
    "\treturn X_train_fs, X_test_fs, fs\n",
    " \n",
    "# load the dataset\n",
    "#X, y = make_regression(n_samples=1000, n_features=100, n_informative=10, noise=0.1, random_state=1)\n",
    "# split into train and test sets\n",
    "X_train, X_test, y_train, y_test = train_test_split(X_train_scaled, np.ravel(Y), test_size=0.20, random_state=1)\n",
    "# feature selection\n",
    "X_train_fs, X_test_fs, fs = select_features(X_train, y_train, X_test)\n",
    "col=X.columns\n",
    "# what are scores for the features\n",
    "for i in range(len(fs.scores_)):\n",
    "\tprint('Feature %s: %f' % (col[i], fs.scores_[i]))\n",
    "# plot the scores\n",
    "pyplot.bar([i for i in range(len(fs.scores_))], fs.scores_)\n",
    "pyplot.show()"
   ]
  },
  {
   "cell_type": "code",
   "execution_count": 9,
   "metadata": {},
   "outputs": [
    {
     "name": "stderr",
     "output_type": "stream",
     "text": [
      "<ipython-input-9-950b3e0a5e43>:9: SettingWithCopyWarning: \n",
      "A value is trying to be set on a copy of a slice from a DataFrame.\n",
      "Try using .loc[row_indexer,col_indexer] = value instead\n",
      "\n",
      "See the caveats in the documentation: https://pandas.pydata.org/pandas-docs/stable/user_guide/indexing.html#returning-a-view-versus-a-copy\n",
      "  X1['Avg_Account_Balance'] = np.log(X1['Avg_Account_Balance'])\n"
     ]
    }
   ],
   "source": [
    "X1=df_ffill[['Age', 'Vintage', 'Avg_Account_Balance', 'RG250',\n",
    "        'RG252', 'RG254', 'RG256',\n",
    "       'RG261',  'RG264',  'RG268', 'RG270', 'RG274',\n",
    "       'RG283', 'RG284', 'Occupation_Entrepreneur', 'Occupation_Other',\n",
    "       'Occupation_Salaried', 'Occupation_Self_Employed', 'Channel_X1',\n",
    "       'Channel_X2', 'Channel_X3', 'CreditProduct_Yes',\n",
    "       'CreditProduct_No', 'IsActive_Yes', 'IsActive_No']]\n",
    "Y1=df_ffill['Is_Lead']\n",
    "X1['Avg_Account_Balance'] = np.log(X1['Avg_Account_Balance'])\n"
   ]
  },
  {
   "cell_type": "code",
   "execution_count": 10,
   "metadata": {},
   "outputs": [
    {
     "data": {
      "text/plain": [
       "RandomForestClassifier(max_depth=21, min_samples_leaf=4, n_estimators=200)"
      ]
     },
     "execution_count": 10,
     "metadata": {},
     "output_type": "execute_result"
    }
   ],
   "source": [
    "rf_tuned= RandomForestClassifier(n_estimators= 200,\n",
    " min_samples_split= 2,\n",
    " min_samples_leaf= 4,\n",
    " max_depth=21,\n",
    " bootstrap=True)\n",
    "\n",
    "\n",
    "\n",
    "from sklearn.preprocessing import StandardScaler\n",
    "scaler = StandardScaler()\n",
    "X_train_scaled1 = scaler.fit_transform(X1)\n",
    "rf_tuned.fit(X_train_scaled1, np.ravel(Y))"
   ]
  },
  {
   "cell_type": "code",
   "execution_count": 11,
   "metadata": {},
   "outputs": [],
   "source": [
    "df_test=pd.read_csv('test_mSzZ8RL.csv')\n",
    "df_ffill_test=df_test.fillna(method=\"ffill\",axis=0)"
   ]
  },
  {
   "cell_type": "code",
   "execution_count": null,
   "metadata": {},
   "outputs": [],
   "source": []
  },
  {
   "cell_type": "code",
   "execution_count": 12,
   "metadata": {},
   "outputs": [
    {
     "name": "stdout",
     "output_type": "stream",
     "text": [
      "<class 'pandas.core.frame.DataFrame'>\n",
      "RangeIndex: 105312 entries, 0 to 105311\n",
      "Data columns (total 59 columns):\n",
      " #   Column                    Non-Null Count   Dtype \n",
      "---  ------                    --------------   ----- \n",
      " 0   ID                        105312 non-null  object\n",
      " 1   Gender                    105312 non-null  object\n",
      " 2   Age                       105312 non-null  int64 \n",
      " 3   Region_Code               105312 non-null  object\n",
      " 4   Occupation                105312 non-null  object\n",
      " 5   Channel_Code              105312 non-null  object\n",
      " 6   Vintage                   105312 non-null  int64 \n",
      " 7   Credit_Product            105312 non-null  object\n",
      " 8   Avg_Account_Balance       105312 non-null  int64 \n",
      " 9   Is_Active                 105312 non-null  object\n",
      " 10  Gender_Male               105312 non-null  uint8 \n",
      " 11  Gender_Female             105312 non-null  uint8 \n",
      " 12  RG250                     105312 non-null  uint8 \n",
      " 13  RG251                     105312 non-null  uint8 \n",
      " 14  RG252                     105312 non-null  uint8 \n",
      " 15  RG253                     105312 non-null  uint8 \n",
      " 16  RG254                     105312 non-null  uint8 \n",
      " 17  RG255                     105312 non-null  uint8 \n",
      " 18  RG256                     105312 non-null  uint8 \n",
      " 19  RG257                     105312 non-null  uint8 \n",
      " 20  RG258                     105312 non-null  uint8 \n",
      " 21  RG259                     105312 non-null  uint8 \n",
      " 22  RG260                     105312 non-null  uint8 \n",
      " 23  RG261                     105312 non-null  uint8 \n",
      " 24  RG262                     105312 non-null  uint8 \n",
      " 25  RG263                     105312 non-null  uint8 \n",
      " 26  RG264                     105312 non-null  uint8 \n",
      " 27  RG265                     105312 non-null  uint8 \n",
      " 28  RG266                     105312 non-null  uint8 \n",
      " 29  RG267                     105312 non-null  uint8 \n",
      " 30  RG268                     105312 non-null  uint8 \n",
      " 31  RG269                     105312 non-null  uint8 \n",
      " 32  RG270                     105312 non-null  uint8 \n",
      " 33  RG271                     105312 non-null  uint8 \n",
      " 34  RG272                     105312 non-null  uint8 \n",
      " 35  RG273                     105312 non-null  uint8 \n",
      " 36  RG274                     105312 non-null  uint8 \n",
      " 37  RG275                     105312 non-null  uint8 \n",
      " 38  RG276                     105312 non-null  uint8 \n",
      " 39  RG277                     105312 non-null  uint8 \n",
      " 40  RG278                     105312 non-null  uint8 \n",
      " 41  RG279                     105312 non-null  uint8 \n",
      " 42  RG280                     105312 non-null  uint8 \n",
      " 43  RG281                     105312 non-null  uint8 \n",
      " 44  RG282                     105312 non-null  uint8 \n",
      " 45  RG283                     105312 non-null  uint8 \n",
      " 46  RG284                     105312 non-null  uint8 \n",
      " 47  Occupation_Entrepreneur   105312 non-null  uint8 \n",
      " 48  Occupation_Other          105312 non-null  uint8 \n",
      " 49  Occupation_Salaried       105312 non-null  uint8 \n",
      " 50  Occupation_Self_Employed  105312 non-null  uint8 \n",
      " 51  Channel_X1                105312 non-null  uint8 \n",
      " 52  Channel_X2                105312 non-null  uint8 \n",
      " 53  Channel_X3                105312 non-null  uint8 \n",
      " 54  Channel_X4                105312 non-null  uint8 \n",
      " 55  CreditProduct_Yes         105312 non-null  uint8 \n",
      " 56  CreditProduct_No          105312 non-null  uint8 \n",
      " 57  IsActive_Yes              105312 non-null  uint8 \n",
      " 58  IsActive_No               105312 non-null  uint8 \n",
      "dtypes: int64(3), object(7), uint8(49)\n",
      "memory usage: 13.0+ MB\n"
     ]
    }
   ],
   "source": [
    "dummies_Gender=pd.get_dummies(df_ffill_test['Gender'])\n",
    "dummies_Region=pd.get_dummies(df_ffill_test['Region_Code'])\n",
    "dummies_Occupation=pd.get_dummies(df_ffill_test['Occupation'])\n",
    "dummies_Channel=pd.get_dummies(df_ffill_test['Channel_Code'])\n",
    "dummies_CreditProduct=pd.get_dummies(df_ffill_test['Credit_Product'])\n",
    "dummies_IsActive=pd.get_dummies(df_ffill_test['Is_Active'])\n",
    "df_ffill_test['Gender_Male']=dummies_Gender['Male']\n",
    "df_ffill_test['Gender_Female']=dummies_Gender['Female']\n",
    "df_ffill_test[['RG250', 'RG251', 'RG252', 'RG253', 'RG254', 'RG255', 'RG256', 'RG257',\n",
    "       'RG258', 'RG259', 'RG260', 'RG261', 'RG262', 'RG263', 'RG264', 'RG265',\n",
    "       'RG266', 'RG267', 'RG268', 'RG269', 'RG270', 'RG271', 'RG272', 'RG273',\n",
    "       'RG274', 'RG275', 'RG276', 'RG277', 'RG278', 'RG279', 'RG280', 'RG281',\n",
    "       'RG282', 'RG283', 'RG284']]=dummies_Region[['RG250', 'RG251', 'RG252', 'RG253', 'RG254', 'RG255', 'RG256', 'RG257',\n",
    "       'RG258', 'RG259', 'RG260', 'RG261', 'RG262', 'RG263', 'RG264', 'RG265',\n",
    "       'RG266', 'RG267', 'RG268', 'RG269', 'RG270', 'RG271', 'RG272', 'RG273',\n",
    "       'RG274', 'RG275', 'RG276', 'RG277', 'RG278', 'RG279', 'RG280', 'RG281',\n",
    "       'RG282', 'RG283', 'RG284']]\n",
    "df_ffill_test['Occupation_Entrepreneur']=dummies_Occupation['Entrepreneur']\n",
    "df_ffill_test['Occupation_Other']=dummies_Occupation['Other']\n",
    "df_ffill_test['Occupation_Salaried']=dummies_Occupation['Salaried']\n",
    "df_ffill_test['Occupation_Self_Employed']=dummies_Occupation['Self_Employed']\n",
    "df_ffill_test['Channel_X1']=dummies_Channel['X1']\n",
    "df_ffill_test['Channel_X2']=dummies_Channel['X2']\n",
    "df_ffill_test['Channel_X3']=dummies_Channel['X3']\n",
    "df_ffill_test['Channel_X4']=dummies_Channel['X4']\n",
    "df_ffill_test['CreditProduct_Yes']=dummies_CreditProduct['Yes']\n",
    "df_ffill_test['CreditProduct_No']=dummies_CreditProduct['No']\n",
    "df_ffill_test['IsActive_Yes']=dummies_IsActive['Yes']\n",
    "df_ffill_test['IsActive_No']=dummies_IsActive['No']\n",
    "df_ffill_test.info()"
   ]
  },
  {
   "cell_type": "code",
   "execution_count": 13,
   "metadata": {},
   "outputs": [],
   "source": [
    "df_ffill_test=df_ffill_test.drop(['Gender','Region_Code','Occupation','Channel_Code','Credit_Product','Is_Active'],axis=1)"
   ]
  },
  {
   "cell_type": "code",
   "execution_count": 14,
   "metadata": {},
   "outputs": [
    {
     "name": "stderr",
     "output_type": "stream",
     "text": [
      "<ipython-input-14-8d62b8b5dcb5>:8: SettingWithCopyWarning: \n",
      "A value is trying to be set on a copy of a slice from a DataFrame.\n",
      "Try using .loc[row_indexer,col_indexer] = value instead\n",
      "\n",
      "See the caveats in the documentation: https://pandas.pydata.org/pandas-docs/stable/user_guide/indexing.html#returning-a-view-versus-a-copy\n",
      "  test_features['Avg_Account_Balance'] = np.log(test_features['Avg_Account_Balance'])\n"
     ]
    }
   ],
   "source": [
    "test_features=df_ffill_test[['Age', 'Vintage', 'Avg_Account_Balance', 'RG250',\n",
    "        'RG252', 'RG254', 'RG256',\n",
    "       'RG261',  'RG264',  'RG268', 'RG270', 'RG274',\n",
    "       'RG283', 'RG284', 'Occupation_Entrepreneur', 'Occupation_Other',\n",
    "       'Occupation_Salaried', 'Occupation_Self_Employed', 'Channel_X1',\n",
    "       'Channel_X2', 'Channel_X3', 'CreditProduct_Yes',\n",
    "       'CreditProduct_No', 'IsActive_Yes', 'IsActive_No']]\n",
    "test_features['Avg_Account_Balance'] = np.log(test_features['Avg_Account_Balance'])\n",
    "\n"
   ]
  },
  {
   "cell_type": "code",
   "execution_count": 15,
   "metadata": {},
   "outputs": [],
   "source": [
    "X_test_scaled = scaler.fit_transform(test_features)\n",
    "df_test['Is_Lead_rf_tune']=rf_tuned.predict(X_test_scaled)\n",
    "df_output1=pd.DataFrame()\n",
    "df_output1[['ID','Is_Lead']]=df_test[['ID','Is_Lead_rf_tune']]\n",
    "df_output1.to_csv('Output_rf_tune_scaled_ffill.csv',index=False)"
   ]
  },
  {
   "cell_type": "markdown",
   "metadata": {},
   "source": [
    "# Backfill"
   ]
  },
  {
   "cell_type": "code",
   "execution_count": 16,
   "metadata": {},
   "outputs": [
    {
     "name": "stderr",
     "output_type": "stream",
     "text": [
      "<ipython-input-16-27935418d673>:52: SettingWithCopyWarning: \n",
      "A value is trying to be set on a copy of a slice from a DataFrame.\n",
      "Try using .loc[row_indexer,col_indexer] = value instead\n",
      "\n",
      "See the caveats in the documentation: https://pandas.pydata.org/pandas-docs/stable/user_guide/indexing.html#returning-a-view-versus-a-copy\n",
      "  X['Avg_Account_Balance'] = np.log(X['Avg_Account_Balance'])\n"
     ]
    },
    {
     "name": "stdout",
     "output_type": "stream",
     "text": [
      "Feature Age: 10992.019910\n",
      "Feature Vintage: 16875.145658\n",
      "Feature Avg_Account_Balance: 1021.921892\n",
      "Feature RG250: 77.780573\n",
      "Feature RG251: 0.941242\n",
      "Feature RG252: 187.484921\n",
      "Feature RG253: 6.369940\n",
      "Feature RG254: 87.880540\n",
      "Feature RG255: 0.647321\n",
      "Feature RG256: 124.701975\n",
      "Feature RG257: 52.183004\n",
      "Feature RG258: 1.488879\n",
      "Feature RG259: 9.696454\n",
      "Feature RG260: 27.594910\n",
      "Feature RG261: 169.162304\n",
      "Feature RG262: 18.731212\n",
      "Feature RG263: 3.800655\n",
      "Feature RG264: 107.990905\n",
      "Feature RG265: 5.269674\n",
      "Feature RG266: 64.060956\n",
      "Feature RG267: 53.759319\n",
      "Feature RG268: 709.146903\n",
      "Feature RG269: 9.180613\n",
      "Feature RG270: 306.075644\n",
      "Feature RG271: 38.839803\n",
      "Feature RG272: 11.838138\n",
      "Feature RG273: 0.003624\n",
      "Feature RG274: 152.362182\n",
      "Feature RG275: 55.945422\n",
      "Feature RG276: 21.091944\n",
      "Feature RG277: 0.916922\n",
      "Feature RG278: 1.734665\n",
      "Feature RG279: 2.596100\n",
      "Feature RG280: 0.149835\n",
      "Feature RG281: 5.777675\n",
      "Feature RG282: 57.597015\n",
      "Feature RG283: 629.071313\n",
      "Feature RG284: 372.976181\n",
      "Feature Occupation_Entrepreneur: 2181.162425\n",
      "Feature Occupation_Other: 21.846632\n",
      "Feature Occupation_Salaried: 2744.642396\n",
      "Feature Occupation_Self_Employed: 1165.203937\n",
      "Feature Channel_X1: 18550.253301\n",
      "Feature Channel_X2: 3439.717054\n",
      "Feature Channel_X3: 7501.419946\n",
      "Feature Channel_X4: 1.345255\n",
      "Feature CreditProduct_Yes: 11620.970827\n",
      "Feature CreditProduct_No: 11620.970827\n",
      "Feature IsActive_Yes: 1428.364934\n",
      "Feature IsActive_No: 1428.364934\n"
     ]
    },
    {
     "data": {
      "image/png": "[encoded data removed]",
      "text/plain": [
       "<Figure size 432x288 with 1 Axes>"
      ]
     },
     "metadata": {},
     "output_type": "display_data"
    }
   ],
   "source": [
    "dummies_Gender=pd.get_dummies(df_bfill['Gender'])\n",
    "dummies_Region=pd.get_dummies(df_bfill['Region_Code'])\n",
    "dummies_Occupation=pd.get_dummies(df_bfill['Occupation'])\n",
    "dummies_Channel=pd.get_dummies(df_bfill['Channel_Code'])\n",
    "dummies_CreditProduct=pd.get_dummies(df_bfill['Credit_Product'])\n",
    "dummies_IsActive=pd.get_dummies(df_bfill['Is_Active'])\n",
    "\n",
    "df_bfill['Gender_Male']=dummies_Gender['Male']\n",
    "df_bfill['Gender_Female']=dummies_Gender['Female']\n",
    "\n",
    "\n",
    "df_bfill[['RG250', 'RG251', 'RG252', 'RG253', 'RG254', 'RG255', 'RG256', 'RG257',\n",
    "       'RG258', 'RG259', 'RG260', 'RG261', 'RG262', 'RG263', 'RG264', 'RG265',\n",
    "       'RG266', 'RG267', 'RG268', 'RG269', 'RG270', 'RG271', 'RG272', 'RG273',\n",
    "       'RG274', 'RG275', 'RG276', 'RG277', 'RG278', 'RG279', 'RG280', 'RG281',\n",
    "       'RG282', 'RG283', 'RG284']]=dummies_Region[['RG250', 'RG251', 'RG252', 'RG253', 'RG254', 'RG255', 'RG256', 'RG257',\n",
    "       'RG258', 'RG259', 'RG260', 'RG261', 'RG262', 'RG263', 'RG264', 'RG265',\n",
    "       'RG266', 'RG267', 'RG268', 'RG269', 'RG270', 'RG271', 'RG272', 'RG273',\n",
    "       'RG274', 'RG275', 'RG276', 'RG277', 'RG278', 'RG279', 'RG280', 'RG281',\n",
    "       'RG282', 'RG283', 'RG284']]\n",
    "\n",
    "\n",
    "\n",
    "df_bfill['Occupation_Entrepreneur']=dummies_Occupation['Entrepreneur']\n",
    "df_bfill['Occupation_Other']=dummies_Occupation['Other']\n",
    "df_bfill['Occupation_Salaried']=dummies_Occupation['Salaried']\n",
    "df_bfill['Occupation_Self_Employed']=dummies_Occupation['Self_Employed']\n",
    "df_bfill['Channel_X1']=dummies_Channel['X1']\n",
    "df_bfill['Channel_X2']=dummies_Channel['X2']\n",
    "df_bfill['Channel_X3']=dummies_Channel['X3']\n",
    "df_bfill['Channel_X4']=dummies_Channel['X4']\n",
    "df_bfill['CreditProduct_Yes']=dummies_CreditProduct['Yes']\n",
    "df_bfill['CreditProduct_No']=dummies_CreditProduct['No']\n",
    "df_bfill['IsActive_Yes']=dummies_IsActive['Yes']\n",
    "df_bfill['IsActive_No']=dummies_IsActive['No']\n",
    "\n",
    "\n",
    "df_bfill=df_bfill.drop(['Gender','Region_Code','Occupation','Channel_Code','Credit_Product','Is_Active'],axis=1)\n",
    "\n",
    "\n",
    "X=df_bfill[['Age', 'Vintage', 'Avg_Account_Balance', 'RG250',\n",
    "       'RG251', 'RG252', 'RG253', 'RG254', 'RG255', 'RG256', 'RG257', 'RG258',\n",
    "       'RG259', 'RG260', 'RG261', 'RG262', 'RG263', 'RG264', 'RG265', 'RG266',\n",
    "       'RG267', 'RG268', 'RG269', 'RG270', 'RG271', 'RG272', 'RG273', 'RG274',\n",
    "       'RG275', 'RG276', 'RG277', 'RG278', 'RG279', 'RG280', 'RG281', 'RG282',\n",
    "       'RG283', 'RG284', 'Occupation_Entrepreneur', 'Occupation_Other',\n",
    "       'Occupation_Salaried', 'Occupation_Self_Employed', 'Channel_X1',\n",
    "       'Channel_X2', 'Channel_X3', 'Channel_X4', 'CreditProduct_Yes',\n",
    "       'CreditProduct_No', 'IsActive_Yes', 'IsActive_No']]\n",
    "Y=df_bfill[['Is_Lead']]\n",
    "\n",
    "X['Avg_Account_Balance'] = np.log(X['Avg_Account_Balance'])\n",
    "from sklearn.preprocessing import StandardScaler\n",
    "scaler = StandardScaler()\n",
    "X_train_scaled = scaler.fit_transform(X)\n",
    "\n",
    "from sklearn.datasets import make_regression\n",
    "from sklearn.feature_selection import SelectKBest\n",
    "from sklearn.feature_selection import f_regression\n",
    "from matplotlib import pyplot\n",
    "# feature selection\n",
    "def select_features(X_train, y_train, X_test):\n",
    "\t# configure to select all features\n",
    "\tfs = SelectKBest(score_func=f_regression, k='all')\n",
    "\t# learn relationship from training data\n",
    "\tfs.fit(X_train, y_train)\n",
    "\t# transform train input data\n",
    "\tX_train_fs = fs.transform(X_train)\n",
    "\t# transform test input data\n",
    "\tX_test_fs = fs.transform(X_test)\n",
    "\treturn X_train_fs, X_test_fs, fs\n",
    " \n",
    "# load the dataset\n",
    "#X, y = make_regression(n_samples=1000, n_features=100, n_informative=10, noise=0.1, random_state=1)\n",
    "# split into train and test sets\n",
    "X_train, X_test, y_train, y_test = train_test_split(X_train_scaled, np.ravel(Y), test_size=0.20, random_state=1)\n",
    "# feature selection\n",
    "X_train_fs, X_test_fs, fs = select_features(X_train, y_train, X_test)\n",
    "col=X.columns\n",
    "# what are scores for the features\n",
    "for i in range(len(fs.scores_)):\n",
    "\tprint('Feature %s: %f' % (col[i], fs.scores_[i]))\n",
    "# plot the scores\n",
    "pyplot.bar([i for i in range(len(fs.scores_))], fs.scores_)\n",
    "pyplot.show()"
   ]
  },
  {
   "cell_type": "code",
   "execution_count": 17,
   "metadata": {},
   "outputs": [
    {
     "name": "stderr",
     "output_type": "stream",
     "text": [
      "<ipython-input-17-b111e3abe645>:9: SettingWithCopyWarning: \n",
      "A value is trying to be set on a copy of a slice from a DataFrame.\n",
      "Try using .loc[row_indexer,col_indexer] = value instead\n",
      "\n",
      "See the caveats in the documentation: https://pandas.pydata.org/pandas-docs/stable/user_guide/indexing.html#returning-a-view-versus-a-copy\n",
      "  X1['Avg_Account_Balance'] = np.log(X1['Avg_Account_Balance'])\n"
     ]
    }
   ],
   "source": [
    "X1=df_bfill[['Age', 'Vintage', 'Avg_Account_Balance', 'RG250',\n",
    "        'RG252', 'RG254', 'RG256',\n",
    "       'RG261',  'RG264',  'RG268', 'RG270', 'RG274',\n",
    "       'RG283', 'RG284', 'Occupation_Entrepreneur', 'Occupation_Other',\n",
    "       'Occupation_Salaried', 'Occupation_Self_Employed', 'Channel_X1',\n",
    "       'Channel_X2', 'Channel_X3', 'CreditProduct_Yes',\n",
    "       'CreditProduct_No', 'IsActive_Yes', 'IsActive_No']]\n",
    "Y1=df_bfill['Is_Lead']\n",
    "X1['Avg_Account_Balance'] = np.log(X1['Avg_Account_Balance'])\n"
   ]
  },
  {
   "cell_type": "code",
   "execution_count": 18,
   "metadata": {},
   "outputs": [
    {
     "data": {
      "text/plain": [
       "RandomForestClassifier(max_depth=21, min_samples_leaf=4, n_estimators=200)"
      ]
     },
     "execution_count": 18,
     "metadata": {},
     "output_type": "execute_result"
    }
   ],
   "source": [
    "rf_tuned= RandomForestClassifier(n_estimators= 200,\n",
    " min_samples_split= 2,\n",
    " min_samples_leaf= 4,\n",
    " max_depth=21,\n",
    " bootstrap=True)\n",
    "\n",
    "\n",
    "\n",
    "from sklearn.preprocessing import StandardScaler\n",
    "scaler = StandardScaler()\n",
    "X_train_scaled1 = scaler.fit_transform(X1)\n",
    "rf_tuned.fit(X_train_scaled1, np.ravel(Y))"
   ]
  },
  {
   "cell_type": "code",
   "execution_count": 19,
   "metadata": {},
   "outputs": [],
   "source": [
    "df_test=pd.read_csv('test_mSzZ8RL.csv')\n",
    "df_bfill_test=df_test.fillna(method=\"bfill\",axis=0)"
   ]
  },
  {
   "cell_type": "code",
   "execution_count": 20,
   "metadata": {},
   "outputs": [
    {
     "name": "stdout",
     "output_type": "stream",
     "text": [
      "<class 'pandas.core.frame.DataFrame'>\n",
      "RangeIndex: 105312 entries, 0 to 105311\n",
      "Data columns (total 59 columns):\n",
      " #   Column                    Non-Null Count   Dtype \n",
      "---  ------                    --------------   ----- \n",
      " 0   ID                        105312 non-null  object\n",
      " 1   Gender                    105312 non-null  object\n",
      " 2   Age                       105312 non-null  int64 \n",
      " 3   Region_Code               105312 non-null  object\n",
      " 4   Occupation                105312 non-null  object\n",
      " 5   Channel_Code              105312 non-null  object\n",
      " 6   Vintage                   105312 non-null  int64 \n",
      " 7   Credit_Product            105312 non-null  object\n",
      " 8   Avg_Account_Balance       105312 non-null  int64 \n",
      " 9   Is_Active                 105312 non-null  object\n",
      " 10  Gender_Male               105312 non-null  uint8 \n",
      " 11  Gender_Female             105312 non-null  uint8 \n",
      " 12  RG250                     105312 non-null  uint8 \n",
      " 13  RG251                     105312 non-null  uint8 \n",
      " 14  RG252                     105312 non-null  uint8 \n",
      " 15  RG253                     105312 non-null  uint8 \n",
      " 16  RG254                     105312 non-null  uint8 \n",
      " 17  RG255                     105312 non-null  uint8 \n",
      " 18  RG256                     105312 non-null  uint8 \n",
      " 19  RG257                     105312 non-null  uint8 \n",
      " 20  RG258                     105312 non-null  uint8 \n",
      " 21  RG259                     105312 non-null  uint8 \n",
      " 22  RG260                     105312 non-null  uint8 \n",
      " 23  RG261                     105312 non-null  uint8 \n",
      " 24  RG262                     105312 non-null  uint8 \n",
      " 25  RG263                     105312 non-null  uint8 \n",
      " 26  RG264                     105312 non-null  uint8 \n",
      " 27  RG265                     105312 non-null  uint8 \n",
      " 28  RG266                     105312 non-null  uint8 \n",
      " 29  RG267                     105312 non-null  uint8 \n",
      " 30  RG268                     105312 non-null  uint8 \n",
      " 31  RG269                     105312 non-null  uint8 \n",
      " 32  RG270                     105312 non-null  uint8 \n",
      " 33  RG271                     105312 non-null  uint8 \n",
      " 34  RG272                     105312 non-null  uint8 \n",
      " 35  RG273                     105312 non-null  uint8 \n",
      " 36  RG274                     105312 non-null  uint8 \n",
      " 37  RG275                     105312 non-null  uint8 \n",
      " 38  RG276                     105312 non-null  uint8 \n",
      " 39  RG277                     105312 non-null  uint8 \n",
      " 40  RG278                     105312 non-null  uint8 \n",
      " 41  RG279                     105312 non-null  uint8 \n",
      " 42  RG280                     105312 non-null  uint8 \n",
      " 43  RG281                     105312 non-null  uint8 \n",
      " 44  RG282                     105312 non-null  uint8 \n",
      " 45  RG283                     105312 non-null  uint8 \n",
      " 46  RG284                     105312 non-null  uint8 \n",
      " 47  Occupation_Entrepreneur   105312 non-null  uint8 \n",
      " 48  Occupation_Other          105312 non-null  uint8 \n",
      " 49  Occupation_Salaried       105312 non-null  uint8 \n",
      " 50  Occupation_Self_Employed  105312 non-null  uint8 \n",
      " 51  Channel_X1                105312 non-null  uint8 \n",
      " 52  Channel_X2                105312 non-null  uint8 \n",
      " 53  Channel_X3                105312 non-null  uint8 \n",
      " 54  Channel_X4                105312 non-null  uint8 \n",
      " 55  CreditProduct_Yes         105312 non-null  uint8 \n",
      " 56  CreditProduct_No          105312 non-null  uint8 \n",
      " 57  IsActive_Yes              105312 non-null  uint8 \n",
      " 58  IsActive_No               105312 non-null  uint8 \n",
      "dtypes: int64(3), object(7), uint8(49)\n",
      "memory usage: 13.0+ MB\n"
     ]
    }
   ],
   "source": [
    "dummies_Gender=pd.get_dummies(df_bfill_test['Gender'])\n",
    "dummies_Region=pd.get_dummies(df_bfill_test['Region_Code'])\n",
    "dummies_Occupation=pd.get_dummies(df_bfill_test['Occupation'])\n",
    "dummies_Channel=pd.get_dummies(df_bfill_test['Channel_Code'])\n",
    "dummies_CreditProduct=pd.get_dummies(df_bfill_test['Credit_Product'])\n",
    "dummies_IsActive=pd.get_dummies(df_bfill_test['Is_Active'])\n",
    "df_bfill_test['Gender_Male']=dummies_Gender['Male']\n",
    "df_bfill_test['Gender_Female']=dummies_Gender['Female']\n",
    "df_bfill_test[['RG250', 'RG251', 'RG252', 'RG253', 'RG254', 'RG255', 'RG256', 'RG257',\n",
    "       'RG258', 'RG259', 'RG260', 'RG261', 'RG262', 'RG263', 'RG264', 'RG265',\n",
    "       'RG266', 'RG267', 'RG268', 'RG269', 'RG270', 'RG271', 'RG272', 'RG273',\n",
    "       'RG274', 'RG275', 'RG276', 'RG277', 'RG278', 'RG279', 'RG280', 'RG281',\n",
    "       'RG282', 'RG283', 'RG284']]=dummies_Region[['RG250', 'RG251', 'RG252', 'RG253', 'RG254', 'RG255', 'RG256', 'RG257',\n",
    "       'RG258', 'RG259', 'RG260', 'RG261', 'RG262', 'RG263', 'RG264', 'RG265',\n",
    "       'RG266', 'RG267', 'RG268', 'RG269', 'RG270', 'RG271', 'RG272', 'RG273',\n",
    "       'RG274', 'RG275', 'RG276', 'RG277', 'RG278', 'RG279', 'RG280', 'RG281',\n",
    "       'RG282', 'RG283', 'RG284']]\n",
    "df_bfill_test['Occupation_Entrepreneur']=dummies_Occupation['Entrepreneur']\n",
    "df_bfill_test['Occupation_Other']=dummies_Occupation['Other']\n",
    "df_bfill_test['Occupation_Salaried']=dummies_Occupation['Salaried']\n",
    "df_bfill_test['Occupation_Self_Employed']=dummies_Occupation['Self_Employed']\n",
    "df_bfill_test['Channel_X1']=dummies_Channel['X1']\n",
    "df_bfill_test['Channel_X2']=dummies_Channel['X2']\n",
    "df_bfill_test['Channel_X3']=dummies_Channel['X3']\n",
    "df_bfill_test['Channel_X4']=dummies_Channel['X4']\n",
    "df_bfill_test['CreditProduct_Yes']=dummies_CreditProduct['Yes']\n",
    "df_bfill_test['CreditProduct_No']=dummies_CreditProduct['No']\n",
    "df_bfill_test['IsActive_Yes']=dummies_IsActive['Yes']\n",
    "df_bfill_test['IsActive_No']=dummies_IsActive['No']\n",
    "df_bfill_test.info()"
   ]
  },
  {
   "cell_type": "code",
   "execution_count": 21,
   "metadata": {},
   "outputs": [
    {
     "name": "stderr",
     "output_type": "stream",
     "text": [
      "<ipython-input-21-eb3104d1ba99>:9: SettingWithCopyWarning: \n",
      "A value is trying to be set on a copy of a slice from a DataFrame.\n",
      "Try using .loc[row_indexer,col_indexer] = value instead\n",
      "\n",
      "See the caveats in the documentation: https://pandas.pydata.org/pandas-docs/stable/user_guide/indexing.html#returning-a-view-versus-a-copy\n",
      "  test_features['Avg_Account_Balance'] = np.log(test_features['Avg_Account_Balance'])\n"
     ]
    }
   ],
   "source": [
    "df_bfill_test=df_bfill_test.drop(['Gender','Region_Code','Occupation','Channel_Code','Credit_Product','Is_Active'],axis=1)\n",
    "test_features=df_bfill_test[['Age', 'Vintage', 'Avg_Account_Balance', 'RG250',\n",
    "        'RG252', 'RG254', 'RG256',\n",
    "       'RG261',  'RG264',  'RG268', 'RG270', 'RG274',\n",
    "       'RG283', 'RG284', 'Occupation_Entrepreneur', 'Occupation_Other',\n",
    "       'Occupation_Salaried', 'Occupation_Self_Employed', 'Channel_X1',\n",
    "       'Channel_X2', 'Channel_X3', 'CreditProduct_Yes',\n",
    "       'CreditProduct_No', 'IsActive_Yes', 'IsActive_No']]\n",
    "test_features['Avg_Account_Balance'] = np.log(test_features['Avg_Account_Balance'])\n",
    "\n",
    "\n",
    "\n",
    "X_test_scaled = scaler.fit_transform(test_features)\n",
    "df_test['Is_Lead_rf_tuned']=rf_tuned.predict(X_test_scaled)\n",
    "df_output1=pd.DataFrame()\n",
    "df_output1[['ID','Is_Lead']]=df_test[['ID','Is_Lead_rf_tuned']]\n",
    "df_output1.to_csv('Output_rf_tune_scaled_bfill.csv',index=False)"
   ]
  },
  {
   "cell_type": "markdown",
   "metadata": {},
   "source": [
    "# Replace Yes with Nan"
   ]
  },
  {
   "cell_type": "code",
   "execution_count": 22,
   "metadata": {},
   "outputs": [
    {
     "name": "stderr",
     "output_type": "stream",
     "text": [
      "<ipython-input-22-efc22b1676c5>:52: SettingWithCopyWarning: \n",
      "A value is trying to be set on a copy of a slice from a DataFrame.\n",
      "Try using .loc[row_indexer,col_indexer] = value instead\n",
      "\n",
      "See the caveats in the documentation: https://pandas.pydata.org/pandas-docs/stable/user_guide/indexing.html#returning-a-view-versus-a-copy\n",
      "  X['Avg_Account_Balance'] = np.log(X['Avg_Account_Balance'])\n"
     ]
    },
    {
     "name": "stdout",
     "output_type": "stream",
     "text": [
      "Feature Age: 10992.019910\n",
      "Feature Vintage: 16875.145658\n",
      "Feature Avg_Account_Balance: 1021.921892\n",
      "Feature RG250: 77.780573\n",
      "Feature RG251: 0.941242\n",
      "Feature RG252: 187.484921\n",
      "Feature RG253: 6.369940\n",
      "Feature RG254: 87.880540\n",
      "Feature RG255: 0.647321\n",
      "Feature RG256: 124.701975\n",
      "Feature RG257: 52.183004\n",
      "Feature RG258: 1.488879\n",
      "Feature RG259: 9.696454\n",
      "Feature RG260: 27.594910\n",
      "Feature RG261: 169.162304\n",
      "Feature RG262: 18.731212\n",
      "Feature RG263: 3.800655\n",
      "Feature RG264: 107.990905\n",
      "Feature RG265: 5.269674\n",
      "Feature RG266: 64.060956\n",
      "Feature RG267: 53.759319\n",
      "Feature RG268: 709.146903\n",
      "Feature RG269: 9.180613\n",
      "Feature RG270: 306.075644\n",
      "Feature RG271: 38.839803\n",
      "Feature RG272: 11.838138\n",
      "Feature RG273: 0.003624\n",
      "Feature RG274: 152.362182\n",
      "Feature RG275: 55.945422\n",
      "Feature RG276: 21.091944\n",
      "Feature RG277: 0.916922\n",
      "Feature RG278: 1.734665\n",
      "Feature RG279: 2.596100\n",
      "Feature RG280: 0.149835\n",
      "Feature RG281: 5.777675\n",
      "Feature RG282: 57.597015\n",
      "Feature RG283: 629.071313\n",
      "Feature RG284: 372.976181\n",
      "Feature Occupation_Entrepreneur: 2181.162425\n",
      "Feature Occupation_Other: 21.846632\n",
      "Feature Occupation_Salaried: 2744.642396\n",
      "Feature Occupation_Self_Employed: 1165.203937\n",
      "Feature Channel_X1: 18550.253301\n",
      "Feature Channel_X2: 3439.717054\n",
      "Feature Channel_X3: 7501.419946\n",
      "Feature Channel_X4: 1.345255\n",
      "Feature CreditProduct_Yes: 52675.328965\n",
      "Feature CreditProduct_No: 52675.328965\n",
      "Feature IsActive_Yes: 1428.364934\n",
      "Feature IsActive_No: 1428.364934\n"
     ]
    },
    {
     "data": {
      "image/png": "[encoded data removed]",
      "text/plain": [
       "<Figure size 432x288 with 1 Axes>"
      ]
     },
     "metadata": {},
     "output_type": "display_data"
    },
    {
     "name": "stderr",
     "output_type": "stream",
     "text": [
      "<ipython-input-22-efc22b1676c5>:96: SettingWithCopyWarning: \n",
      "A value is trying to be set on a copy of a slice from a DataFrame.\n",
      "Try using .loc[row_indexer,col_indexer] = value instead\n",
      "\n",
      "See the caveats in the documentation: https://pandas.pydata.org/pandas-docs/stable/user_guide/indexing.html#returning-a-view-versus-a-copy\n",
      "  X1['Avg_Account_Balance'] = np.log(X1['Avg_Account_Balance'])\n"
     ]
    },
    {
     "data": {
      "text/plain": [
       "RandomForestClassifier(max_depth=21, min_samples_leaf=4, n_estimators=200)"
      ]
     },
     "execution_count": 22,
     "metadata": {},
     "output_type": "execute_result"
    }
   ],
   "source": [
    "dummies_Gender=pd.get_dummies(df_yes['Gender'])\n",
    "dummies_Region=pd.get_dummies(df_yes['Region_Code'])\n",
    "dummies_Occupation=pd.get_dummies(df_yes['Occupation'])\n",
    "dummies_Channel=pd.get_dummies(df_yes['Channel_Code'])\n",
    "dummies_CreditProduct=pd.get_dummies(df_yes['Credit_Product'])\n",
    "dummies_IsActive=pd.get_dummies(df_yes['Is_Active'])\n",
    "\n",
    "df_yes['Gender_Male']=dummies_Gender['Male']\n",
    "df_yes['Gender_Female']=dummies_Gender['Female']\n",
    "\n",
    "\n",
    "df_yes[['RG250', 'RG251', 'RG252', 'RG253', 'RG254', 'RG255', 'RG256', 'RG257',\n",
    "       'RG258', 'RG259', 'RG260', 'RG261', 'RG262', 'RG263', 'RG264', 'RG265',\n",
    "       'RG266', 'RG267', 'RG268', 'RG269', 'RG270', 'RG271', 'RG272', 'RG273',\n",
    "       'RG274', 'RG275', 'RG276', 'RG277', 'RG278', 'RG279', 'RG280', 'RG281',\n",
    "       'RG282', 'RG283', 'RG284']]=dummies_Region[['RG250', 'RG251', 'RG252', 'RG253', 'RG254', 'RG255', 'RG256', 'RG257',\n",
    "       'RG258', 'RG259', 'RG260', 'RG261', 'RG262', 'RG263', 'RG264', 'RG265',\n",
    "       'RG266', 'RG267', 'RG268', 'RG269', 'RG270', 'RG271', 'RG272', 'RG273',\n",
    "       'RG274', 'RG275', 'RG276', 'RG277', 'RG278', 'RG279', 'RG280', 'RG281',\n",
    "       'RG282', 'RG283', 'RG284']]\n",
    "\n",
    "\n",
    "\n",
    "df_yes['Occupation_Entrepreneur']=dummies_Occupation['Entrepreneur']\n",
    "df_yes['Occupation_Other']=dummies_Occupation['Other']\n",
    "df_yes['Occupation_Salaried']=dummies_Occupation['Salaried']\n",
    "df_yes['Occupation_Self_Employed']=dummies_Occupation['Self_Employed']\n",
    "df_yes['Channel_X1']=dummies_Channel['X1']\n",
    "df_yes['Channel_X2']=dummies_Channel['X2']\n",
    "df_yes['Channel_X3']=dummies_Channel['X3']\n",
    "df_yes['Channel_X4']=dummies_Channel['X4']\n",
    "df_yes['CreditProduct_Yes']=dummies_CreditProduct['Yes']\n",
    "df_yes['CreditProduct_No']=dummies_CreditProduct['No']\n",
    "df_yes['IsActive_Yes']=dummies_IsActive['Yes']\n",
    "df_yes['IsActive_No']=dummies_IsActive['No']\n",
    "\n",
    "\n",
    "df_yes=df_yes.drop(['Gender','Region_Code','Occupation','Channel_Code','Credit_Product','Is_Active'],axis=1)\n",
    "\n",
    "\n",
    "X=df_yes[['Age', 'Vintage', 'Avg_Account_Balance', 'RG250',\n",
    "       'RG251', 'RG252', 'RG253', 'RG254', 'RG255', 'RG256', 'RG257', 'RG258',\n",
    "       'RG259', 'RG260', 'RG261', 'RG262', 'RG263', 'RG264', 'RG265', 'RG266',\n",
    "       'RG267', 'RG268', 'RG269', 'RG270', 'RG271', 'RG272', 'RG273', 'RG274',\n",
    "       'RG275', 'RG276', 'RG277', 'RG278', 'RG279', 'RG280', 'RG281', 'RG282',\n",
    "       'RG283', 'RG284', 'Occupation_Entrepreneur', 'Occupation_Other',\n",
    "       'Occupation_Salaried', 'Occupation_Self_Employed', 'Channel_X1',\n",
    "       'Channel_X2', 'Channel_X3', 'Channel_X4', 'CreditProduct_Yes',\n",
    "       'CreditProduct_No', 'IsActive_Yes', 'IsActive_No']]\n",
    "Y=df_yes[['Is_Lead']]\n",
    "\n",
    "X['Avg_Account_Balance'] = np.log(X['Avg_Account_Balance'])\n",
    "from sklearn.preprocessing import StandardScaler\n",
    "scaler = StandardScaler()\n",
    "X_train_scaled = scaler.fit_transform(X)\n",
    "\n",
    "from sklearn.datasets import make_regression\n",
    "from sklearn.feature_selection import SelectKBest\n",
    "from sklearn.feature_selection import f_regression\n",
    "from matplotlib import pyplot\n",
    "# feature selection\n",
    "def select_features(X_train, y_train, X_test):\n",
    "\t# configure to select all features\n",
    "\tfs = SelectKBest(score_func=f_regression, k='all')\n",
    "\t# learn relationship from training data\n",
    "\tfs.fit(X_train, y_train)\n",
    "\t# transform train input data\n",
    "\tX_train_fs = fs.transform(X_train)\n",
    "\t# transform test input data\n",
    "\tX_test_fs = fs.transform(X_test)\n",
    "\treturn X_train_fs, X_test_fs, fs\n",
    " \n",
    "# load the dataset\n",
    "#X, y = make_regression(n_samples=1000, n_features=100, n_informative=10, noise=0.1, random_state=1)\n",
    "# split into train and test sets\n",
    "X_train, X_test, y_train, y_test = train_test_split(X_train_scaled, np.ravel(Y), test_size=0.20, random_state=1)\n",
    "# feature selection\n",
    "X_train_fs, X_test_fs, fs = select_features(X_train, y_train, X_test)\n",
    "col=X.columns\n",
    "# what are scores for the features\n",
    "for i in range(len(fs.scores_)):\n",
    "\tprint('Feature %s: %f' % (col[i], fs.scores_[i]))\n",
    "# plot the scores\n",
    "pyplot.bar([i for i in range(len(fs.scores_))], fs.scores_)\n",
    "pyplot.show()\n",
    "\n",
    "\n",
    "\n",
    "\n",
    "X1=df_yes[['Age', 'Vintage', 'Avg_Account_Balance',\n",
    "       'RG283', 'RG284', 'Occupation_Entrepreneur', 'Occupation_Other',\n",
    "       'Occupation_Salaried', 'Occupation_Self_Employed', 'Channel_X1',\n",
    "       'Channel_X2', 'Channel_X3', 'CreditProduct_Yes',\n",
    "       'CreditProduct_No', 'IsActive_Yes', 'IsActive_No']]\n",
    "Y1=df_yes['Is_Lead']\n",
    "X1['Avg_Account_Balance'] = np.log(X1['Avg_Account_Balance'])\n",
    "\n",
    "\n",
    "rf_tuned= RandomForestClassifier(n_estimators= 200,\n",
    " min_samples_split= 2,\n",
    " min_samples_leaf= 4,\n",
    " max_depth=21,\n",
    " bootstrap=True)\n",
    "\n",
    "\n",
    "\n",
    "from sklearn.preprocessing import StandardScaler\n",
    "scaler = StandardScaler()\n",
    "X_train_scaled1 = scaler.fit_transform(X1)\n",
    "rf_tuned.fit(X_train_scaled1, np.ravel(Y))\n",
    "\n",
    "\n"
   ]
  },
  {
   "cell_type": "code",
   "execution_count": 23,
   "metadata": {},
   "outputs": [
    {
     "name": "stdout",
     "output_type": "stream",
     "text": [
      "<class 'pandas.core.frame.DataFrame'>\n",
      "RangeIndex: 105312 entries, 0 to 105311\n",
      "Data columns (total 10 columns):\n",
      " #   Column               Non-Null Count   Dtype \n",
      "---  ------               --------------   ----- \n",
      " 0   ID                   105312 non-null  object\n",
      " 1   Gender               105312 non-null  object\n",
      " 2   Age                  105312 non-null  int64 \n",
      " 3   Region_Code          105312 non-null  object\n",
      " 4   Occupation           105312 non-null  object\n",
      " 5   Channel_Code         105312 non-null  object\n",
      " 6   Vintage              105312 non-null  int64 \n",
      " 7   Credit_Product       105312 non-null  object\n",
      " 8   Avg_Account_Balance  105312 non-null  int64 \n",
      " 9   Is_Active            105312 non-null  object\n",
      "dtypes: int64(3), object(7)\n",
      "memory usage: 8.0+ MB\n"
     ]
    }
   ],
   "source": [
    "df_test=pd.read_csv('test_mSzZ8RL.csv')\n",
    "df_test['Credit_Product'].replace(np.nan,'Yes',inplace=True)\n",
    "df_test.info()"
   ]
  },
  {
   "cell_type": "code",
   "execution_count": 24,
   "metadata": {},
   "outputs": [
    {
     "name": "stdout",
     "output_type": "stream",
     "text": [
      "<class 'pandas.core.frame.DataFrame'>\n",
      "RangeIndex: 105312 entries, 0 to 105311\n",
      "Data columns (total 59 columns):\n",
      " #   Column                    Non-Null Count   Dtype \n",
      "---  ------                    --------------   ----- \n",
      " 0   ID                        105312 non-null  object\n",
      " 1   Gender                    105312 non-null  object\n",
      " 2   Age                       105312 non-null  int64 \n",
      " 3   Region_Code               105312 non-null  object\n",
      " 4   Occupation                105312 non-null  object\n",
      " 5   Channel_Code              105312 non-null  object\n",
      " 6   Vintage                   105312 non-null  int64 \n",
      " 7   Credit_Product            105312 non-null  object\n",
      " 8   Avg_Account_Balance       105312 non-null  int64 \n",
      " 9   Is_Active                 105312 non-null  object\n",
      " 10  Gender_Male               105312 non-null  uint8 \n",
      " 11  Gender_Female             105312 non-null  uint8 \n",
      " 12  RG250                     105312 non-null  uint8 \n",
      " 13  RG251                     105312 non-null  uint8 \n",
      " 14  RG252                     105312 non-null  uint8 \n",
      " 15  RG253                     105312 non-null  uint8 \n",
      " 16  RG254                     105312 non-null  uint8 \n",
      " 17  RG255                     105312 non-null  uint8 \n",
      " 18  RG256                     105312 non-null  uint8 \n",
      " 19  RG257                     105312 non-null  uint8 \n",
      " 20  RG258                     105312 non-null  uint8 \n",
      " 21  RG259                     105312 non-null  uint8 \n",
      " 22  RG260                     105312 non-null  uint8 \n",
      " 23  RG261                     105312 non-null  uint8 \n",
      " 24  RG262                     105312 non-null  uint8 \n",
      " 25  RG263                     105312 non-null  uint8 \n",
      " 26  RG264                     105312 non-null  uint8 \n",
      " 27  RG265                     105312 non-null  uint8 \n",
      " 28  RG266                     105312 non-null  uint8 \n",
      " 29  RG267                     105312 non-null  uint8 \n",
      " 30  RG268                     105312 non-null  uint8 \n",
      " 31  RG269                     105312 non-null  uint8 \n",
      " 32  RG270                     105312 non-null  uint8 \n",
      " 33  RG271                     105312 non-null  uint8 \n",
      " 34  RG272                     105312 non-null  uint8 \n",
      " 35  RG273                     105312 non-null  uint8 \n",
      " 36  RG274                     105312 non-null  uint8 \n",
      " 37  RG275                     105312 non-null  uint8 \n",
      " 38  RG276                     105312 non-null  uint8 \n",
      " 39  RG277                     105312 non-null  uint8 \n",
      " 40  RG278                     105312 non-null  uint8 \n",
      " 41  RG279                     105312 non-null  uint8 \n",
      " 42  RG280                     105312 non-null  uint8 \n",
      " 43  RG281                     105312 non-null  uint8 \n",
      " 44  RG282                     105312 non-null  uint8 \n",
      " 45  RG283                     105312 non-null  uint8 \n",
      " 46  RG284                     105312 non-null  uint8 \n",
      " 47  Occupation_Entrepreneur   105312 non-null  uint8 \n",
      " 48  Occupation_Other          105312 non-null  uint8 \n",
      " 49  Occupation_Salaried       105312 non-null  uint8 \n",
      " 50  Occupation_Self_Employed  105312 non-null  uint8 \n",
      " 51  Channel_X1                105312 non-null  uint8 \n",
      " 52  Channel_X2                105312 non-null  uint8 \n",
      " 53  Channel_X3                105312 non-null  uint8 \n",
      " 54  Channel_X4                105312 non-null  uint8 \n",
      " 55  CreditProduct_Yes         105312 non-null  uint8 \n",
      " 56  CreditProduct_No          105312 non-null  uint8 \n",
      " 57  IsActive_Yes              105312 non-null  uint8 \n",
      " 58  IsActive_No               105312 non-null  uint8 \n",
      "dtypes: int64(3), object(7), uint8(49)\n",
      "memory usage: 13.0+ MB\n"
     ]
    }
   ],
   "source": [
    "df_yes_test=df_test.copy()\n",
    "\n",
    "\n",
    "dummies_Gender=pd.get_dummies(df_yes_test['Gender'])\n",
    "dummies_Region=pd.get_dummies(df_yes_test['Region_Code'])\n",
    "dummies_Occupation=pd.get_dummies(df_yes_test['Occupation'])\n",
    "dummies_Channel=pd.get_dummies(df_yes_test['Channel_Code'])\n",
    "dummies_CreditProduct=pd.get_dummies(df_yes_test['Credit_Product'])\n",
    "dummies_IsActive=pd.get_dummies(df_yes_test['Is_Active'])\n",
    "df_yes_test['Gender_Male']=dummies_Gender['Male']\n",
    "df_yes_test['Gender_Female']=dummies_Gender['Female']\n",
    "df_yes_test[['RG250', 'RG251', 'RG252', 'RG253', 'RG254', 'RG255', 'RG256', 'RG257',\n",
    "       'RG258', 'RG259', 'RG260', 'RG261', 'RG262', 'RG263', 'RG264', 'RG265',\n",
    "       'RG266', 'RG267', 'RG268', 'RG269', 'RG270', 'RG271', 'RG272', 'RG273',\n",
    "       'RG274', 'RG275', 'RG276', 'RG277', 'RG278', 'RG279', 'RG280', 'RG281',\n",
    "       'RG282', 'RG283', 'RG284']]=dummies_Region[['RG250', 'RG251', 'RG252', 'RG253', 'RG254', 'RG255', 'RG256', 'RG257',\n",
    "       'RG258', 'RG259', 'RG260', 'RG261', 'RG262', 'RG263', 'RG264', 'RG265',\n",
    "       'RG266', 'RG267', 'RG268', 'RG269', 'RG270', 'RG271', 'RG272', 'RG273',\n",
    "       'RG274', 'RG275', 'RG276', 'RG277', 'RG278', 'RG279', 'RG280', 'RG281',\n",
    "       'RG282', 'RG283', 'RG284']]\n",
    "df_yes_test['Occupation_Entrepreneur']=dummies_Occupation['Entrepreneur']\n",
    "df_yes_test['Occupation_Other']=dummies_Occupation['Other']\n",
    "df_yes_test['Occupation_Salaried']=dummies_Occupation['Salaried']\n",
    "df_yes_test['Occupation_Self_Employed']=dummies_Occupation['Self_Employed']\n",
    "df_yes_test['Channel_X1']=dummies_Channel['X1']\n",
    "df_yes_test['Channel_X2']=dummies_Channel['X2']\n",
    "df_yes_test['Channel_X3']=dummies_Channel['X3']\n",
    "df_yes_test['Channel_X4']=dummies_Channel['X4']\n",
    "df_yes_test['CreditProduct_Yes']=dummies_CreditProduct['Yes']\n",
    "df_yes_test['CreditProduct_No']=dummies_CreditProduct['No']\n",
    "df_yes_test['IsActive_Yes']=dummies_IsActive['Yes']\n",
    "df_yes_test['IsActive_No']=dummies_IsActive['No']\n",
    "df_yes_test.info()"
   ]
  },
  {
   "cell_type": "code",
   "execution_count": 25,
   "metadata": {},
   "outputs": [
    {
     "name": "stderr",
     "output_type": "stream",
     "text": [
      "<ipython-input-25-7fe679b496ee>:7: SettingWithCopyWarning: \n",
      "A value is trying to be set on a copy of a slice from a DataFrame.\n",
      "Try using .loc[row_indexer,col_indexer] = value instead\n",
      "\n",
      "See the caveats in the documentation: https://pandas.pydata.org/pandas-docs/stable/user_guide/indexing.html#returning-a-view-versus-a-copy\n",
      "  test_features['Avg_Account_Balance'] = np.log(test_features['Avg_Account_Balance'])\n"
     ]
    }
   ],
   "source": [
    "df_yes_test=df_yes_test.drop(['Gender','Region_Code','Occupation','Channel_Code','Credit_Product','Is_Active'],axis=1)\n",
    "test_features=df_yes_test[['Age', 'Vintage', 'Avg_Account_Balance', 'RG250',\n",
    "        'RG252', 'RG254', 'RG256',\n",
    "       'RG261',  'RG264',  'RG268', 'RG270', 'RG274',\n",
    "       'RG283', 'RG284', 'Occupation_Entrepreneur', 'Occupation_Other',\n",
    "       'Occupation_Salaried', 'Occupation_Self_Employed', 'Channel_X1',\n",
    "       'Channel_X2', 'Channel_X3', 'CreditProduct_Yes',\n",
    "       'CreditProduct_No', 'IsActive_Yes', 'IsActive_No']]\n",
    "test_features['Avg_Account_Balance'] = np.log(test_features['Avg_Account_Balance'])\n",
    "\n",
    "\n",
    "\n",
    "X_test_scaled = scaler.fit_transform(test_features)\n",
    "df_test['Is_Lead_rf_tuned']=rf_tuned.predict(X_test_scaled)\n",
    "df_output1=pd.DataFrame()\n",
    "df_output1[['ID','Is_Lead']]=df_test[['ID','Is_Lead_rf_tuned']]\n",
    "df_output1.to_csv('Output_rf_tune_scaled_yes.csv',index=False)"
   ]
  },
  {
   "cell_type": "markdown",
   "metadata": {},
   "source": [
    "# Neural network"
   ]
  },
  {
   "cell_type": "code",
   "execution_count": 36,
   "metadata": {},
   "outputs": [
    {
     "data": {
      "text/plain": [
       "numpy.ndarray"
      ]
     },
     "execution_count": 36,
     "metadata": {},
     "output_type": "execute_result"
    }
   ],
   "source": [
    "type(X_train_scaled1)"
   ]
  }
 ],
 "metadata": {
  "kernelspec": {
   "display_name": "Python 3",
   "language": "python",
   "name": "python3"
  },
  "language_info": {
   "codemirror_mode": {
    "name": "ipython",
    "version": 3
   },
   "file_extension": ".py",
   "mimetype": "text/x-python",
   "name": "python",
   "nbconvert_exporter": "python",
   "pygments_lexer": "ipython3",
   "version": "3.8.5"
  }
 },
 "nbformat": 4,
 "nbformat_minor": 4
}
